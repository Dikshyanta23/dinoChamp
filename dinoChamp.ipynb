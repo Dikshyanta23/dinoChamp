{
  "nbformat": 4,
  "nbformat_minor": 0,
  "metadata": {
    "colab": {
      "provenance": []
    },
    "kernelspec": {
      "name": "python3",
      "display_name": "Python 3"
    },
    "language_info": {
      "name": "python"
    }
  },
  "cells": [
    {
      "cell_type": "markdown",
      "source": [
        "1. Install and import dependencies\n"
      ],
      "metadata": {
        "id": "NNK7RBfJskxQ"
      }
    },
    {
      "cell_type": "code",
      "execution_count": null,
      "metadata": {
        "id": "PsbgKa-OsZuS"
      },
      "outputs": [],
      "source": [
        "!pip install torch torchvision torchaudio --index-url https://download.pytorch.org/whl/cu118"
      ]
    },
    {
      "cell_type": "code",
      "source": [
        "!pip install stable-baselines3[extra] protobuf==3.20.*"
      ],
      "metadata": {
        "id": "Ipw8cPKetgdk"
      },
      "execution_count": null,
      "outputs": []
    },
    {
      "cell_type": "code",
      "source": [
        "# install tesseract\n",
        "!apt-get update\n",
        "!apt-get install -y tesseract-ocr"
      ],
      "metadata": {
        "id": "sazSUq1nuxdl"
      },
      "execution_count": null,
      "outputs": []
    },
    {
      "cell_type": "code",
      "source": [
        "# install python tesseract\n",
        "!pip install mss pydirectinput pytesseract"
      ],
      "metadata": {
        "id": "jqNyEM6Wu7og"
      },
      "execution_count": null,
      "outputs": []
    },
    {
      "cell_type": "code",
      "source": [
        "# imports\n",
        "# capturing screen\n",
        "from mss import mss\n",
        "# sending commands\n",
        "import pydirectinput\n",
        "# frame processing\n",
        "import cv2\n",
        "# transformations\n",
        "import numpy as np\n",
        "# ocr for text extracting\n",
        "import pytesseract\n",
        "# visualization\n",
        "from matplotlib import pyplot as plt\n",
        "# pauses\n",
        "import time\n",
        "# envs\n",
        "from gym import Env\n",
        "from gym.spaces import Box, Discrete"
      ],
      "metadata": {
        "collapsed": true,
        "id": "87WUYAQQvaYP"
      },
      "execution_count": null,
      "outputs": []
    },
    {
      "cell_type": "markdown",
      "source": [
        "2. Build the environment\n"
      ],
      "metadata": {
        "id": "sS1Cgl5NtclQ"
      }
    },
    {
      "cell_type": "code",
      "source": [
        "# create the environment\n",
        "class WebGame(Env):\n",
        "  def __init__(self):\n",
        "    # subclass\n",
        "    super().__init__()\n",
        "    # space\n",
        "    self.output_space = Box(low=0, high=255, shape(1,83,100), dtype=np.uint8)\n",
        "    self.action_space = Discrete(3)\n",
        "    # define extraction parameters\n",
        "    self.cap = mss()\n",
        "    self.game_location={'top':300, 'left': 0, 'width': 600, 'height': 500}\n",
        "    self.done_location = {'top':405, 'left': 630, 'width': 660, 'height': 70}\n",
        "\n",
        "  def step(self, action):\n",
        "    # action index - 0 => space, 1 => duck, 2 => no action\n",
        "    action_map = {\n",
        "        0: 'space',\n",
        "        1: 'down',\n",
        "        2: 'no_operation'\n",
        "    }\n",
        "    if action != 2:\n",
        "      pydirectinput.press(action_map[action])\n",
        "    # check for game over\n",
        "    gover, done_capture = self.get_done()\n",
        "    # get the new observation\n",
        "    new_observation = self.get_output()\n",
        "\n",
        "    # define rewards for our model (for every frame a point is given to the model)\n",
        "    reward = 1\n",
        "    info = {}\n",
        "    return new_observation, reward, gover, info\n",
        "\n",
        "  # function to render the screen frames\n",
        "  def render(self):\n",
        "    cv2.imshow('Game', np.array(self.cap.grab(self.game_location))[:,:,3])\n",
        "    if cv2.waitKey(1) & 0xFF == ord('q'):\n",
        "      self.close()\n",
        "  # restart session\n",
        "  def reset(self):\n",
        "    # wait for the button to appear\n",
        "    time.sleep(1)\n",
        "    # press the buttons\n",
        "    pydirectinput.click(x=150, y=150)\n",
        "    pydirectinput.press('space')\n",
        "    return self.get_output()\n",
        "  # get part of the game to check for conditions\n",
        "  def get_output(self):\n",
        "    # get the screen capture\n",
        "    raw_screen = np.array(self.cap.grab(self.game_location))[:,:,3].astype(np.uint8)\n",
        "    # gray scale it\n",
        "    gray = cv2.cvtColor(raw, cv2.COLOR_BGr2GRAY)\n",
        "    # resize the gray-scaled image\n",
        "    resized_image = cv2.resize(gray, (100,83))\n",
        "    # channels\n",
        "    channel = np.reshape(resized, (1, 83,100))\n",
        "    return channel\n",
        "  # get the final text (game over) from the running screen in browser\n",
        "  def get_done(self):\n",
        "    done_capture = np.array(self.cap.grab(self.done_location))[:, :, 3]\n",
        "    # validate the text. Sometimes the model reads the text as Gahe instead of game\n",
        "    gover_strings = ['GAME', 'GAHE']\n",
        "    # run the ocr\n",
        "    gover= False\n",
        "    result = pytesseract.image_to_string(done_capture)[:4]\n",
        "    if result in gover_strings:\n",
        "      gover = True\n",
        "    return  gover, done_capture\n",
        "  # close the observation\n",
        "  def close(self):\n",
        "    cv2.destroyAllWindows()\n"
      ],
      "metadata": {
        "id": "5XnXpRWmte1j"
      },
      "execution_count": null,
      "outputs": []
    },
    {
      "cell_type": "code",
      "source": [
        "# setup the environment\n",
        "env = WebGame()"
      ],
      "metadata": {
        "id": "_NmJKODStW9T"
      },
      "execution_count": null,
      "outputs": []
    },
    {
      "cell_type": "code",
      "source": [
        "env.reset()"
      ],
      "metadata": {
        "id": "DbAdxzYzG5UY"
      },
      "execution_count": null,
      "outputs": []
    },
    {
      "cell_type": "code",
      "source": [
        "env.render()"
      ],
      "metadata": {
        "id": "-BV-nK7A_pn6"
      },
      "execution_count": null,
      "outputs": []
    },
    {
      "cell_type": "code",
      "source": [
        "# grey scaled\n",
        "plt.imshow(cv2.cvtColor(env.get_observation()[0], cv2.COLOR_BGR2RGB ))"
      ],
      "metadata": {
        "id": "ccsUF8ZyNoBB"
      },
      "execution_count": null,
      "outputs": []
    },
    {
      "cell_type": "code",
      "source": [
        "# game over region\n",
        " gover, done_capture = env.get_done()"
      ],
      "metadata": {
        "id": "PVNYCO0yRb24"
      },
      "execution_count": null,
      "outputs": []
    },
    {
      "cell_type": "code",
      "source": [
        "# show the done capture\n",
        "plt.imshow(done_capture)"
      ],
      "metadata": {
        "id": "YPMRKnl788tk"
      },
      "execution_count": null,
      "outputs": []
    },
    {
      "cell_type": "markdown",
      "source": [
        "Test the environment\n"
      ],
      "metadata": {
        "id": "MIpbh1c0HTQC"
      }
    },
    {
      "cell_type": "code",
      "source": [
        "# define an instance of the game\n",
        "env = WebGame()"
      ],
      "metadata": {
        "id": "ze0Gv9bfHXj8"
      },
      "execution_count": null,
      "outputs": []
    },
    {
      "cell_type": "code",
      "source": [
        "# get the output observation\n",
        "output = env.get_output()"
      ],
      "metadata": {
        "id": "2tFUu_xnHbHd"
      },
      "execution_count": null,
      "outputs": []
    },
    {
      "cell_type": "code",
      "source": [
        "# display output\n",
        "plt.imshow(cv2.cvtColor(obs[0], cv2.COLOR_BGR2RGB))"
      ],
      "metadata": {
        "id": "2v2DQMHnHg_j"
      },
      "execution_count": null,
      "outputs": []
    },
    {
      "cell_type": "code",
      "source": [
        "# get the game over status\n",
        "gover, done_capture = env.get_done()\n",
        "gover"
      ],
      "metadata": {
        "id": "3bFaaIikH_6v"
      },
      "execution_count": null,
      "outputs": []
    },
    {
      "cell_type": "code",
      "source": [
        "# pre-emptively test the model using for loop and random action (10 instances)\n",
        "for instance in range(10):\n",
        "  observation = env.reset()\n",
        "  gover = False\n",
        "  reward_tally = 0\n",
        "  # while not dead\n",
        "  while not gover:\n",
        "    observation, reward, gover, info = env.step(env.action_space.sample())\n",
        "    reward_tally += reward\n",
        "  # get output for the trials\n",
        "  print(f'Total reward for instance {instance} is {reward_tally}')"
      ],
      "metadata": {
        "id": "d6j0HYRiIssc"
      },
      "execution_count": null,
      "outputs": []
    },
    {
      "cell_type": "markdown",
      "source": [
        "3. Training the model"
      ],
      "metadata": {
        "id": "Qye3mn-CIShC"
      }
    },
    {
      "cell_type": "code",
      "source": [
        "# create callback to train model\n",
        "import os\n",
        "# base callback for saving\n",
        "from stable_baselines3.common.callbacks import BaseCallback\n",
        "# check environment\n",
        "from stable_baselines3.common import env_checker"
      ],
      "metadata": {
        "id": "MD1tLpZZIUhw"
      },
      "execution_count": null,
      "outputs": []
    },
    {
      "cell_type": "code",
      "source": [
        "# check environment status\n",
        "env_checker.check_env(env)"
      ],
      "metadata": {
        "id": "1kvNcTRePMXi"
      },
      "execution_count": null,
      "outputs": []
    },
    {
      "cell_type": "code",
      "source": [
        "# write the callback class\n",
        "class TrainAndLoggingCallback(BaseCallback):\n",
        "  # initialize the class\n",
        "  def __init__(self, check_frequency, save_path, verbose=1):\n",
        "    super(TrainAndLoggingCallback, self).__init__(verbose)\n",
        "    self.check_frequency = check_frequency\n",
        "    self.save_path = save_path\n",
        "  # initialize callback\n",
        "  def _init_callback(self):\n",
        "    if self.save_path is not None:\n",
        "      os.makedirs(self.save_path, exist_ok=True)\n",
        "  # on all steps\n",
        "  def _on_step(self):\n",
        "    if self.n_calls % self.check_frequency == 0:\n",
        "      model_path = os.path.join(self.save_path, 'best_model_{}'.format(self.n_calls))\n",
        "      self.model.save(model_path)\n",
        "    return True\n",
        "\n"
      ],
      "metadata": {
        "id": "3TJxBRqQPWea"
      },
      "execution_count": null,
      "outputs": []
    },
    {
      "cell_type": "code",
      "source": [
        "# create two directories for checkpoints and logs\n",
        "TRAIN_DIRECTORY = './train'\n",
        "LOG_DIRECTORY = './log'"
      ],
      "metadata": {
        "id": "iNdajLAMRCB1"
      },
      "execution_count": null,
      "outputs": []
    },
    {
      "cell_type": "code",
      "source": [
        "# instantiate the callback\n",
        "cb = TrainAndLoggingCallback(check_frequency = 1000, save_path=TRAIN_DIRECTORY)"
      ],
      "metadata": {
        "id": "KjnDfKU5RB5f"
      },
      "execution_count": null,
      "outputs": []
    },
    {
      "cell_type": "markdown",
      "source": [
        "Build and train the DQN model\n"
      ],
      "metadata": {
        "id": "KR6j0BtyR09J"
      }
    },
    {
      "cell_type": "code",
      "source": [
        "# import dqn\n",
        "from stable_baselines3 import DQN"
      ],
      "metadata": {
        "id": "jqy03p1HRnke"
      },
      "execution_count": null,
      "outputs": []
    },
    {
      "cell_type": "code",
      "source": [
        "# create the model\n",
        "model = DQN('CnnPolicy', env, tensorboard_log=LOG_DIRECTORY, verbose=1, buffer_size=150000, learning_starts=100)"
      ],
      "metadata": {
        "id": "3n4piT8-R56C"
      },
      "execution_count": null,
      "outputs": []
    },
    {
      "cell_type": "code",
      "source": [
        "# start training\n",
        "model.learn(total_timesteps=6000, callback=callback)"
      ],
      "metadata": {
        "id": "-2NE1dr_SqVP"
      },
      "execution_count": null,
      "outputs": []
    },
    {
      "cell_type": "markdown",
      "source": [
        "4. Test the model"
      ],
      "metadata": {
        "id": "NW0ULnOjShxg"
      }
    },
    {
      "cell_type": "code",
      "source": [
        "# preload a tested model for better learning\n",
        "model = DQN.load(model.load(os.path.join('train_first', 'best_model_88000')))"
      ],
      "metadata": {
        "id": "x4PKAw2IWgxz"
      },
      "execution_count": null,
      "outputs": []
    },
    {
      "cell_type": "code",
      "source": [
        "# run loop, but this time with proper learning actions\n",
        "for instance in range(10):\n",
        "  observation = env.reset()\n",
        "  gover = False\n",
        "  reward_tally = 0\n",
        "  # while not dead\n",
        "  while not gover:\n",
        "    action, _ = model.predict(observation)\n",
        "    observation, reward, gover, info = env.step(int(action))\n",
        "    reward_tally += reward\n",
        "  # get output for the trials\n",
        "  print(f'Total reward for instance {instance} is {reward_tally}')"
      ],
      "metadata": {
        "collapsed": true,
        "id": "PseovhIJSj1h"
      },
      "execution_count": null,
      "outputs": []
    },
    {
      "cell_type": "code",
      "source": [],
      "metadata": {
        "id": "81ntCC-7X9MB"
      },
      "execution_count": null,
      "outputs": []
    }
  ]
}